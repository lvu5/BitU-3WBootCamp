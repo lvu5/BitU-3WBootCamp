{
  "nbformat": 4,
  "nbformat_minor": 0,
  "metadata": {
    "colab": {
      "name": "NumbersW1.ipynb",
      "provenance": [],
      "authorship_tag": "ABX9TyM0+M3oAQ/5Wf+57GTRO8i6",
      "include_colab_link": true
    },
    "kernelspec": {
      "name": "python3",
      "display_name": "Python 3"
    }
  },
  "cells": [
    {
      "cell_type": "markdown",
      "metadata": {
        "id": "view-in-github",
        "colab_type": "text"
      },
      "source": [
        "<a href=\"https://colab.research.google.com/github/lvu5/BitU-3WBootCamp/blob/Linh/NumbersW1.ipynb\" target=\"_parent\"><img src=\"https://colab.research.google.com/assets/colab-badge.svg\" alt=\"Open In Colab\"/></a>"
      ]
    },
    {
      "cell_type": "markdown",
      "metadata": {
        "id": "YADlmOaX-E60"
      },
      "source": [
        "## Numbers"
      ]
    },
    {
      "cell_type": "markdown",
      "metadata": {
        "id": "luHzaCM4-H4t"
      },
      "source": [
        "### Types of numbers\n",
        "There are two different kinds of numbers we'll be going over in this course: integers and floats.\n",
        "\n",
        "Integers are whole numbers, like `3`,`100`, and`-2000`.\n",
        "\n",
        "Floats are numbers with decimals, like `-3.14`,`2.917`, and `1.1`.\n",
        "\n",
        "You can use Python to do basic math with these numbers."
      ]
    },
    {
      "cell_type": "markdown",
      "metadata": {
        "id": "rICH7_U0-Kc4"
      },
      "source": [
        "### Basic Arithmetic\n",
        "\n",
        "Most of these operations are intuitive. "
      ]
    },
    {
      "cell_type": "markdown",
      "metadata": {
        "id": "mY4aD_mF-NYC"
      },
      "source": [
        "Addition"
      ]
    },
    {
      "cell_type": "code",
      "metadata": {
        "id": "qye3BAYm-O7F"
      },
      "source": [
        "4+5"
      ],
      "execution_count": null,
      "outputs": []
    },
    {
      "cell_type": "markdown",
      "metadata": {
        "id": "LFseYp-4-Q2I"
      },
      "source": [
        "Subtraction"
      ]
    },
    {
      "cell_type": "code",
      "metadata": {
        "id": "mGD6_kYO-RvP"
      },
      "source": [
        "5-10"
      ],
      "execution_count": null,
      "outputs": []
    },
    {
      "cell_type": "markdown",
      "metadata": {
        "id": "P7i06EDO-S94"
      },
      "source": [
        "Multiplication"
      ]
    },
    {
      "cell_type": "code",
      "metadata": {
        "id": "ckvJRso_-asV"
      },
      "source": [
        "4.2*8.3"
      ],
      "execution_count": null,
      "outputs": []
    },
    {
      "cell_type": "markdown",
      "metadata": {
        "id": "fp-z_rAR-c64"
      },
      "source": [
        "Division"
      ]
    },
    {
      "cell_type": "code",
      "metadata": {
        "id": "OsldkxJy-gNN"
      },
      "source": [
        "25/5"
      ],
      "execution_count": null,
      "outputs": []
    },
    {
      "cell_type": "markdown",
      "metadata": {
        "id": "P8iqZtvO_kQh"
      },
      "source": [
        "Floor Division"
      ]
    },
    {
      "cell_type": "code",
      "metadata": {
        "id": "KbMJxLn0_l5Y"
      },
      "source": [
        "12//7"
      ],
      "execution_count": null,
      "outputs": []
    },
    {
      "cell_type": "markdown",
      "metadata": {
        "id": "_aTvSLZX_q72"
      },
      "source": [
        "Floor division returns the quotient from division as a whole number. \n",
        "For example, if you used division to calculate 12 divided by 7, you would get approximately 1.71. Floor division leaves out the decimals and just takes the integer. In this case, we would just get 1.\n",
        "\n",
        "Remember, floor division will not round to the nearest integer! Instead, floor division will just leave out everything after the decimal point. \n",
        "\n",
        "1.   List item\n",
        "2.   List item\n",
        "\n",
        "\n",
        "\n"
      ]
    },
    {
      "cell_type": "markdown",
      "metadata": {
        "id": "KLQM7KrSB_h1"
      },
      "source": [
        "Modulo"
      ]
    },
    {
      "cell_type": "code",
      "metadata": {
        "id": "pWy0r2sBCBBj"
      },
      "source": [
        "9%4"
      ],
      "execution_count": null,
      "outputs": []
    },
    {
      "cell_type": "markdown",
      "metadata": {
        "id": "RoJuBeJhCD0B"
      },
      "source": [
        "Modulo, or mod, returns the remainder of a division operation. For example, 4 goes into 9 twice with a remainder of 1."
      ]
    }
  ]
}