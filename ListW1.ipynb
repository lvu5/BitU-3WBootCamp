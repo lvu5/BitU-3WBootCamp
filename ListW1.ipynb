{
  "nbformat": 4,
  "nbformat_minor": 0,
  "metadata": {
    "colab": {
      "name": "ListW1.ipynb",
      "provenance": [],
      "authorship_tag": "ABX9TyMPC4hThliVC6X1DLU2vwNz",
      "include_colab_link": true
    },
    "kernelspec": {
      "name": "python3",
      "display_name": "Python 3"
    }
  },
  "cells": [
    {
      "cell_type": "markdown",
      "metadata": {
        "id": "view-in-github",
        "colab_type": "text"
      },
      "source": [
        "<a href=\"https://colab.research.google.com/github/lvu5/BitU-3WBootCamp/blob/Linh/ListW1.ipynb\" target=\"_parent\"><img src=\"https://colab.research.google.com/assets/colab-badge.svg\" alt=\"Open In Colab\"/></a>"
      ]
    },
    {
      "cell_type": "markdown",
      "metadata": {
        "id": "nNL-HOzgV-yw"
      },
      "source": [
        "## Lists\n",
        "We briefly talked about *sequences* when going over strings. A list is another kind of sequence. The main difference is that a list is more generic. It can hold more data types than just letters or characters."
      ]
    },
    {
      "cell_type": "markdown",
      "metadata": {
        "id": "r6y6GebqXgaq"
      },
      "source": [
        "### Creating Lists"
      ]
    },
    {
      "cell_type": "markdown",
      "metadata": {
        "id": "0S6nK3fHXiZd"
      },
      "source": [
        "A list is of the form: `[a,b,c]` where each data element is separated by commas, and the whole list is surrounded by square brackets."
      ]
    },
    {
      "cell_type": "code",
      "metadata": {
        "id": "qMaRUvu6Xj0f"
      },
      "source": [
        "# Create a list and asisgn it to the variable my_list\n",
        "my_list = [1,2,3]"
      ],
      "execution_count": null,
      "outputs": []
    },
    {
      "cell_type": "markdown",
      "metadata": {
        "id": "l4L_R1X0XlJO"
      },
      "source": [
        "That was a list of integers, but like we mentioned, lists can store many data types at once."
      ]
    },
    {
      "cell_type": "code",
      "metadata": {
        "id": "UKp80p8HXma0"
      },
      "source": [
        "# Here, my_list is storing a string, an integer, a float, and a character\n",
        "my_list = ['A string',23,100.232,'o']"
      ],
      "execution_count": null,
      "outputs": []
    },
    {
      "cell_type": "markdown",
      "metadata": {
        "id": "cVzuQ9X-XoPe"
      },
      "source": [
        "You can examine list properties by using the same statements that we used for strings. For example, if you wanted to know how many elements are in a list, you can use the `len()` statement."
      ]
    },
    {
      "cell_type": "code",
      "metadata": {
        "id": "r1MWkDTTXpyu"
      },
      "source": [
        "len(my_list)"
      ],
      "execution_count": null,
      "outputs": []
    },
    {
      "cell_type": "code",
      "metadata": {
        "id": "BbLrNPFhXp1E"
      },
      "source": [
        "my_list = ['one','two','three',4,5]"
      ],
      "execution_count": null,
      "outputs": []
    },
    {
      "cell_type": "markdown",
      "metadata": {
        "id": "tO9vublLXvDq"
      },
      "source": [
        "All sequences can be indexed. We saw how to do it with strings, and lists are no different."
      ]
    },
    {
      "cell_type": "code",
      "metadata": {
        "id": "rND5yzrzXwkX"
      },
      "source": [
        "# Grab element at index 0\n",
        "my_list[0]"
      ],
      "execution_count": null,
      "outputs": []
    },
    {
      "cell_type": "code",
      "metadata": {
        "id": "ztafS-r8Xwnp"
      },
      "source": [
        "# Grab index 1 and everything past it\n",
        "my_list[1:]"
      ],
      "execution_count": null,
      "outputs": []
    },
    {
      "cell_type": "code",
      "metadata": {
        "id": "AWZoErYEXwp9"
      },
      "source": [
        "# Grab everything UP TO index 3\n",
        "my_list[:3]"
      ],
      "execution_count": null,
      "outputs": []
    },
    {
      "cell_type": "markdown",
      "metadata": {
        "id": "-o_exEzXX1HY"
      },
      "source": [
        "Lists can be concatenated the same way strings can."
      ]
    },
    {
      "cell_type": "code",
      "metadata": {
        "id": "67_lMuZBX2ou"
      },
      "source": [
        "my_list + ['new item']"
      ],
      "execution_count": null,
      "outputs": []
    },
    {
      "cell_type": "markdown",
      "metadata": {
        "id": "vKbFttkEX5Ek"
      },
      "source": [
        "Since we didn't reassign `my_list`, this didn't change the original `my_list`."
      ]
    },
    {
      "cell_type": "code",
      "metadata": {
        "id": "9j5L73_lX6T0"
      },
      "source": [
        "my_list"
      ],
      "execution_count": null,
      "outputs": []
    },
    {
      "cell_type": "markdown",
      "metadata": {
        "id": "baQAVeZBX8o4"
      },
      "source": [
        "If you want the change to be permanent, you need to reassign `my_list`."
      ]
    },
    {
      "cell_type": "code",
      "metadata": {
        "id": "C0qJ3tzlX-hL"
      },
      "source": [
        "# Reassign\n",
        "my_list = my_list + ['add new item permanently']"
      ],
      "execution_count": null,
      "outputs": []
    },
    {
      "cell_type": "code",
      "metadata": {
        "id": "E8qWpqFyX-vw"
      },
      "source": [
        "my_list"
      ],
      "execution_count": null,
      "outputs": []
    },
    {
      "cell_type": "markdown",
      "metadata": {
        "id": "xovHV2FQYBfd"
      },
      "source": [
        "Now let's briefly go over some list methods."
      ]
    },
    {
      "cell_type": "markdown",
      "metadata": {
        "id": "YsHcvnCBYEDJ"
      },
      "source": [
        "### Basic List Methods\n",
        "We already mentioned how lists were more flexible as a sequence than strings. Another key difference between them is that lists are **mutable**. In other words, they can be changed after creation."
      ]
    },
    {
      "cell_type": "code",
      "metadata": {
        "id": "Cd6EAb8IYFco"
      },
      "source": [
        "# Create a new list\n",
        "list1 = [1,2,3]"
      ],
      "execution_count": null,
      "outputs": []
    },
    {
      "cell_type": "markdown",
      "metadata": {
        "id": "J73RgTZLYG5G"
      },
      "source": [
        "If we want to add a new item to the end of a list, we can do so with the `append()` method."
      ]
    },
    {
      "cell_type": "code",
      "metadata": {
        "id": "XycdPfNtYIGJ"
      },
      "source": [
        "# Append a string t \n",
        "list1.append('append me!')"
      ],
      "execution_count": null,
      "outputs": []
    },
    {
      "cell_type": "code",
      "metadata": {
        "id": "YNATy2mSYJND"
      },
      "source": [
        "# Show\n",
        "list1"
      ],
      "execution_count": null,
      "outputs": []
    },
    {
      "cell_type": "markdown",
      "metadata": {
        "id": "y53lR55oYLCk"
      },
      "source": [
        "Sometimes, we also want to remove an item from a list. To do this, we use the `pop()` method. \n",
        "\n",
        "While `append()` always adds the item to the end of the list, you can actually choose which item `pop()` should remove by specifying the index of that item. If you don't choose a specific index, `pop()` removes the last item by default."
      ]
    },
    {
      "cell_type": "code",
      "metadata": {
        "id": "ldV-Xh1OYMh4"
      },
      "source": [
        "# Pop off the 0 indexed item\n",
        "list1.pop(0)"
      ],
      "execution_count": null,
      "outputs": []
    },
    {
      "cell_type": "code",
      "metadata": {
        "id": "802PZ8_XYMkh"
      },
      "source": [
        "# The first item was permanently deleted from list1\n",
        "list1"
      ],
      "execution_count": null,
      "outputs": []
    },
    {
      "cell_type": "markdown",
      "metadata": {
        "id": "kI03t_VJYQ5U"
      },
      "source": [
        "We can keep track of the elements that we remove from a list."
      ]
    },
    {
      "cell_type": "code",
      "metadata": {
        "id": "Cc8qjhfaYSDA"
      },
      "source": [
        "popped_item = list1.pop()\n",
        "popped_item"
      ],
      "execution_count": null,
      "outputs": []
    },
    {
      "cell_type": "code",
      "metadata": {
        "id": "7q5bBmLqYSFO"
      },
      "source": [
        "# Now list1 had its last element removed\n",
        "list1"
      ],
      "execution_count": null,
      "outputs": []
    },
    {
      "cell_type": "markdown",
      "metadata": {
        "id": "Hr06jV-mYVks"
      },
      "source": [
        "When indexing any sequence, you will get an error if you try to access an index that doesn't exist."
      ]
    },
    {
      "cell_type": "code",
      "metadata": {
        "id": "y07X-LfnYXX9"
      },
      "source": [
        "list1[100]"
      ],
      "execution_count": null,
      "outputs": []
    },
    {
      "cell_type": "markdown",
      "metadata": {
        "id": "Zk9PhDFKYY62"
      },
      "source": [
        "Two additional methods that come in handy for lists are `sort()` and `reverse()`.\n",
        "\n",
        "`sort()` does just that. If you have a list of strings or characters, it will sort the list in alphabetical order. If you're dealing with a list of numbers, it will sort from smallest to largest. (You can also make it sort from largest to smallest).\n",
        "\n"
      ]
    },
    {
      "cell_type": "code",
      "metadata": {
        "id": "pqlTOjewYapH"
      },
      "source": [
        "new_list = ['a','e','x','b','c']"
      ],
      "execution_count": null,
      "outputs": []
    },
    {
      "cell_type": "code",
      "metadata": {
        "id": "xzNKFtD0YarX"
      },
      "source": [
        "# Since new_list only has letters, it will be sorted in alphabetical order\n",
        "new_list.sort()\n",
        "new_list"
      ],
      "execution_count": null,
      "outputs": []
    },
    {
      "cell_type": "code",
      "metadata": {
        "id": "2tTyjEWMYatt"
      },
      "source": [
        "# Here's an example of sorting a list of numbers from least to greatest\n",
        "list2 = [3,2,9,6,4,0]\n",
        "list2.sort()"
      ],
      "execution_count": null,
      "outputs": []
    },
    {
      "cell_type": "markdown",
      "metadata": {
        "id": "Iiq488BUYecg"
      },
      "source": [
        "By specifying `reverse=True` when using `sort()`, we can sort a list of numbers in descending order."
      ]
    },
    {
      "cell_type": "code",
      "metadata": {
        "id": "vwvroS_3YjrZ"
      },
      "source": [
        "list2.sort(reverse=True)\n",
        "list2"
      ],
      "execution_count": null,
      "outputs": []
    },
    {
      "cell_type": "markdown",
      "metadata": {
        "id": "WbxXRVCoYlSF"
      },
      "source": [
        "`reverse()` simply reverses the current order of the list."
      ]
    },
    {
      "cell_type": "code",
      "metadata": {
        "id": "vHtdgpg5YmvS"
      },
      "source": [
        "# Use reverse to reverse order (this is permanent!)\n",
        "new_list.reverse()\n",
        "new_list"
      ],
      "execution_count": null,
      "outputs": []
    },
    {
      "cell_type": "markdown",
      "metadata": {
        "id": "7y8ckEvMYqhw"
      },
      "source": [
        "### Nesting Lists\n",
        "We already showed how lists can store data of different types, but we can take that even further. Lists can even store other lists. This is called **nesting**.\n",
        "\n",
        "Let's go through one example."
      ]
    },
    {
      "cell_type": "code",
      "metadata": {
        "id": "A6K5szl5Yzdy"
      },
      "source": [
        "# Here, we build three lists\n",
        "lst_1=[1,2,3]\n",
        "lst_2=[4,5,6]\n",
        "lst_3=[7,8,9]\n",
        "\n",
        "# By nesting them all, we create a matrix (a list of lists)\n",
        "matrix = [lst_1,lst_2,lst_3]"
      ],
      "execution_count": null,
      "outputs": []
    },
    {
      "cell_type": "code",
      "metadata": {
        "id": "Ue8Ug5JqYzgj"
      },
      "source": [
        "# Show\n",
        "matrix"
      ],
      "execution_count": null,
      "outputs": []
    },
    {
      "cell_type": "markdown",
      "metadata": {
        "id": "TPdOZ8xqY3fs"
      },
      "source": [
        "Indexing gets trickier when dealing with nested lists. <font color=\"red\">Now we have elements that have their own elements. </font> So to actually index them, we have to index multiple times, as you can see in the following example.\n"
      ]
    },
    {
      "cell_type": "code",
      "metadata": {
        "id": "Rg3bnH6MY6vX"
      },
      "source": [
        "# Grab first element in matrix (lst_1)\n",
        "matrix[0]"
      ],
      "execution_count": null,
      "outputs": []
    },
    {
      "cell_type": "code",
      "metadata": {
        "id": "19ZYc_tJY6xd"
      },
      "source": [
        "# Grab first element of lst_1 (1)\n",
        "matrix[0][0]"
      ],
      "execution_count": null,
      "outputs": []
    },
    {
      "cell_type": "markdown",
      "metadata": {
        "id": "6rU_3tT9Y-4B"
      },
      "source": [
        "### 3.0 Now Try This"
      ]
    },
    {
      "cell_type": "markdown",
      "metadata": {
        "id": "3qJHy1ahZArS"
      },
      "source": [
        "Using any way that we've already taught you, build the list `[0,0,0]`."
      ]
    },
    {
      "cell_type": "code",
      "metadata": {
        "id": "1R4oOxJ2ZCeS"
      },
      "source": [
        "# Once your have verified your answer please uncomment the line below and run it, this will save your code \n",
        "#%%writefile -a {folder_location}/3.py\n",
        "# Please note that if you uncomment and press multiple times, the program will keep appending to the file.\n",
        "\n",
        "# Build the list\n",
        "answer1 = #INSERT CODE HERE\n",
        "print(answer1)"
      ],
      "execution_count": null,
      "outputs": []
    },
    {
      "cell_type": "markdown",
      "metadata": {
        "id": "-ti_psbgZF7N"
      },
      "source": [
        "Modify `answer2` and use multiple indexing to replace the `hello` element with `goodbye`."
      ]
    },
    {
      "cell_type": "code",
      "metadata": {
        "id": "i1mgQCsmZIWg"
      },
      "source": [
        "# Once your have verified your answer please uncomment the line below and run it, this will save your code \n",
        "#%%writefile -a {folder_location}/3.py\n",
        "# Please note that if you uncomment and press multiple times, the program will keep appending to the file.\n",
        "\n",
        "answer2 = [1,2,[3,4,'hello']]\n",
        "answer2 = #INSERT CODE HERE\n",
        "print(answer2)"
      ],
      "execution_count": null,
      "outputs": []
    },
    {
      "cell_type": "markdown",
      "metadata": {
        "id": "OM8dFitaZLFu"
      },
      "source": [
        "Sort the list below:"
      ]
    },
    {
      "cell_type": "code",
      "metadata": {
        "id": "ujTiWmOwZMor"
      },
      "source": [
        "# Once your have verified your answer please uncomment the line below and run it, this will save your code \n",
        "#%%writefile -a {folder_location}/3.py\n",
        "# Please note that if you uncomment and press multiple times, the program will keep appending to the file.\n",
        "\n",
        "answer3 = [5,3,4,6,1]\n",
        "answer3 = #INSERT CODE HERE\n",
        "print(answer3)"
      ],
      "execution_count": null,
      "outputs": []
    }
  ]
}