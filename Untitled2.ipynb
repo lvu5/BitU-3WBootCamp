{
  "nbformat": 4,
  "nbformat_minor": 0,
  "metadata": {
    "colab": {
      "name": "Untitled2.ipynb",
      "provenance": [],
      "authorship_tag": "ABX9TyPG6WmjQw0rTV9WgUn7gXIg",
      "include_colab_link": true
    },
    "kernelspec": {
      "name": "python3",
      "display_name": "Python 3"
    }
  },
  "cells": [
    {
      "cell_type": "markdown",
      "metadata": {
        "id": "view-in-github",
        "colab_type": "text"
      },
      "source": [
        "<a href=\"https://colab.research.google.com/github/lvu5/BitU-3WBootCamp/blob/Linh/Untitled2.ipynb\" target=\"_parent\"><img src=\"https://colab.research.google.com/assets/colab-badge.svg\" alt=\"Open In Colab\"/></a>"
      ]
    },
    {
      "cell_type": "markdown",
      "metadata": {
        "id": "N4sg72ZgcIVK"
      },
      "source": [
        "## Tuples\n",
        "\n",
        "Tuples are very similar to lists with one key difference. They are immutable. In other words, once you create a tuple, you can never modify its contents."
      ]
    },
    {
      "cell_type": "markdown",
      "metadata": {
        "id": "bqheEU4mcKVb"
      },
      "source": [
        "### Constructing Tuples\n",
        "\n",
        "You can construct a tuple almost exactly like a list. Only, you would surround the elements with parentheses `( )` rather than square brackets `[ ]`."
      ]
    },
    {
      "cell_type": "code",
      "metadata": {
        "id": "9MSbhPUccMy1"
      },
      "source": [
        "# Create a tuple\n",
        "t = (1,2,3)"
      ],
      "execution_count": null,
      "outputs": []
    },
    {
      "cell_type": "markdown",
      "metadata": {
        "id": "l8GFy25QcO2W"
      },
      "source": [
        "Trying to change a tuple afterwards won't work."
      ]
    }
  ]
}