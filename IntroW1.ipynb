{
  "nbformat": 4,
  "nbformat_minor": 0,
  "metadata": {
    "colab": {
      "name": "IntroW1.ipynb",
      "provenance": [],
      "authorship_tag": "ABX9TyOd0dhWI37oG/xZo5T5HS5c",
      "include_colab_link": true
    },
    "kernelspec": {
      "name": "python3",
      "display_name": "Python 3"
    }
  },
  "cells": [
    {
      "cell_type": "markdown",
      "metadata": {
        "id": "view-in-github",
        "colab_type": "text"
      },
      "source": [
        "<a href=\"https://colab.research.google.com/github/lvu5/BitU-3WBootCamp/blob/Linh/IntroW1.ipynb\" target=\"_parent\"><img src=\"https://colab.research.google.com/assets/colab-badge.svg\" alt=\"Open In Colab\"/></a>"
      ]
    },
    {
      "cell_type": "markdown",
      "metadata": {
        "id": "3hh6_XGI71cs"
      },
      "source": [
        "# <div align=\"center\">Introduction to Data and Python</div>"
      ]
    },
    {
      "cell_type": "markdown",
      "metadata": {
        "id": "rNfSTw6-79Y3"
      },
      "source": [
        "## Intro to Data Science & Programming \n",
        "Welcome! In this camp, we will be learning the basics of a few programming tools used to analyze data. In today's world, data science is more important than ever. With an increasing amount of data available, data science allows us to sort through data that won't be useful and instead gather meaningful conclusions from our data. In doing so, data science lets us make better, more informed decisions in nearly every aspect of our lives. \n",
        "\n",
        "For example, Netflix analyzes watchtimes and user preferences to decide which shows to buy rights for and which shows to recommend to you, health workers analyze virus cases to decide what policies to enact based on their results, stockbrokers analyze stock performance to predict which stocks to buy, etc. The examples are truly endless. \n",
        "\n",
        "Programming allows us to analyze data easily and efficiently. Instead of going through data by hand, we can simply type a few commands and be able to filter out useless data, select specific data we want to examine more in depth, as well as visualize data in just a few seconds. Thus, in this camp, we'll be going over a few of these commonly used data analysis tools and how to use them.  "
      ]
    },
    {
      "cell_type": "markdown",
      "metadata": {
        "id": "YZ8j2ZRS7-XN"
      },
      "source": [
        "## Why, Where, and How we use Python\n",
        "To begin, we'll be going over the basics of Python, which is a popular general-purpose programming language used for everything from data science to software and web development. Python is one of the best programming languages to learn as a beginner because it is structured to put less emphasis on specific formatting and the commands used are meant to be easily understandable. \n",
        "\n",
        "When it comes to data science, Python is particularly useful because it features a variety of data science libraries like pandas and Matplotlib. These libraries are collections of code that aren't built in to standard Python that you can import and then use. For example, instead of having to write many lines of code to make a graph based on data, we can just import the Matplotlib library and use the plot command. \n",
        "\n",
        "However, to use these useful data science tools, we first have to understand the basics of Python itself. \n",
        "\n",
        "\n"
      ]
    }
  ]
}