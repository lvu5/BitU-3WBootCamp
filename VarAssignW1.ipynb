{
  "nbformat": 4,
  "nbformat_minor": 0,
  "metadata": {
    "colab": {
      "name": "VarAssignW1.ipynb",
      "provenance": [],
      "authorship_tag": "ABX9TyONyu9L+34dmC+gLCxVtyvw",
      "include_colab_link": true
    },
    "kernelspec": {
      "name": "python3",
      "display_name": "Python 3"
    }
  },
  "cells": [
    {
      "cell_type": "markdown",
      "metadata": {
        "id": "view-in-github",
        "colab_type": "text"
      },
      "source": [
        "<a href=\"https://colab.research.google.com/github/lvu5/BitU-3WBootCamp/blob/Linh/VarAssignW1.ipynb\" target=\"_parent\"><img src=\"https://colab.research.google.com/assets/colab-badge.svg\" alt=\"Open In Colab\"/></a>"
      ]
    },
    {
      "cell_type": "markdown",
      "metadata": {
        "id": "6opCDdAkCS16"
      },
      "source": [
        "## Variable Assignments\n",
        "\n",
        "In programming, you store data in variables. They work exactly the same as the variables you've seen in math classes.\n",
        "\n",
        "Let's see some examples:"
      ]
    },
    {
      "cell_type": "code",
      "metadata": {
        "id": "rjGJF9yMCih1"
      },
      "source": [
        "# Let's create a variable called \"a\" and assign it to equal the number 10\n",
        "a = 10"
      ],
      "execution_count": null,
      "outputs": []
    },
    {
      "cell_type": "markdown",
      "metadata": {
        "id": "cHJ8FS-1CkZ1"
      },
      "source": [
        "Python will now substitute `a` with `10` whenever we work with that variable."
      ]
    },
    {
      "cell_type": "code",
      "metadata": {
        "id": "jds1JMC2Cz6W"
      },
      "source": [
        "# Adding the variables\n",
        "a+a"
      ],
      "execution_count": null,
      "outputs": []
    },
    {
      "cell_type": "markdown",
      "metadata": {
        "id": "SbL3PwtuC5w1"
      },
      "source": [
        "Values of variables aren't set in stone. You can change them at any time."
      ]
    },
    {
      "cell_type": "code",
      "metadata": {
        "id": "32KqQDlhDHrO"
      },
      "source": [
        "# Reassignment\n",
        "a = 20"
      ],
      "execution_count": null,
      "outputs": []
    },
    {
      "cell_type": "code",
      "metadata": {
        "id": "sMbUiaegDL6v"
      },
      "source": [
        "# Check\n",
        "a+a"
      ],
      "execution_count": null,
      "outputs": []
    },
    {
      "cell_type": "markdown",
      "metadata": {
        "id": "zhP0dy9hDSAt"
      },
      "source": [
        "You don't have to just use numbers when assigning variables. You can even use other variables."
      ]
    },
    {
      "cell_type": "code",
      "metadata": {
        "id": "UsmwnsbtDXyt"
      },
      "source": [
        "# Use A to redefine A\n",
        "a = a+a"
      ],
      "execution_count": null,
      "outputs": []
    },
    {
      "cell_type": "code",
      "metadata": {
        "id": "RAXR9jrEDb9o"
      },
      "source": [
        "# Check \n",
        "a"
      ],
      "execution_count": null,
      "outputs": []
    },
    {
      "cell_type": "markdown",
      "metadata": {
        "id": "UTe9tCe-DftW"
      },
      "source": [
        "There are a few rules when picking variable names:"
      ]
    },
    {
      "cell_type": "markdown",
      "metadata": {
        "id": "psXzzz1rDzoA"
      },
      "source": [
        "\n",
        "\n",
        "    1. Names can't start with a number. (E.g. 123name)\n",
        "    2. There can't be any spaces. (E.g. my name)\n",
        "          - Use underscores instead. (E.g. my_name)\n",
        "    3. Can't use any of these symbols :'\",<>/?|\\()!@#$%^&*~-+\n",
        "    4. Avoid using the characters 'l' (lowercase letter el), 'O' (uppercase letter oh), or 'I' (uppercase letter eye) as single letter variable names.\n",
        "    5. Avoid using words that have special meaning in Python like \"list\" and \"str\".\n",
        "    6. Using lowercase names are best practice.\n",
        "\n",
        "\n"
      ]
    },
    {
      "cell_type": "markdown",
      "metadata": {
        "id": "nhXSS8OtD48a"
      },
      "source": [
        "It's important to use meaningful variable names that accurately represent the variable's purpose. Single letter variable names are very easy to write, but can be very confusing when someone else is trying to understand your code."
      ]
    },
    {
      "cell_type": "code",
      "metadata": {
        "id": "08S6aEpaD9RZ"
      },
      "source": [
        "# Use variable names to keep better track of what's going on in your code!\n",
        "income = 1000\n",
        "\n",
        "tax_rate = 0.2\n",
        "\n",
        "taxes = income*tax_rate"
      ],
      "execution_count": null,
      "outputs": []
    },
    {
      "cell_type": "code",
      "metadata": {
        "id": "3ZvzWJaAECMX"
      },
      "source": [
        "# Show the result!\n",
        "taxes"
      ],
      "execution_count": null,
      "outputs": []
    },
    {
      "cell_type": "markdown",
      "metadata": {
        "id": "bc9v4F6HEHgW"
      },
      "source": [
        "Now, we will go over the next **data type**: Strings."
      ]
    }
  ]
}