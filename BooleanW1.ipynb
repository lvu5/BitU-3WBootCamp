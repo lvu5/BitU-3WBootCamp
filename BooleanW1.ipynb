{
  "nbformat": 4,
  "nbformat_minor": 0,
  "metadata": {
    "colab": {
      "name": "BooleanW1.ipynb",
      "provenance": [],
      "authorship_tag": "ABX9TyOUOXoQ2fepP0XTYTZxocJA",
      "include_colab_link": true
    },
    "kernelspec": {
      "name": "python3",
      "display_name": "Python 3"
    }
  },
  "cells": [
    {
      "cell_type": "markdown",
      "metadata": {
        "id": "view-in-github",
        "colab_type": "text"
      },
      "source": [
        "<a href=\"https://colab.research.google.com/github/lvu5/BitU-3WBootCamp/blob/Linh/BooleanW1.ipynb\" target=\"_parent\"><img src=\"https://colab.research.google.com/assets/colab-badge.svg\" alt=\"Open In Colab\"/></a>"
      ]
    },
    {
      "cell_type": "markdown",
      "metadata": {
        "id": "a2HF-H5VLxCR"
      },
      "source": [
        "## Booleans\n",
        "\n",
        "Booleans are another example of a data type. They can only be one of two values: `True` or `False`, and are usually the answers to any true/false questions."
      ]
    },
    {
      "cell_type": "code",
      "metadata": {
        "id": "hG_NiREiL0PD"
      },
      "source": [
        "# Booleans can be assigned to variables, just like numbers or strings\n",
        "a = True"
      ],
      "execution_count": null,
      "outputs": []
    },
    {
      "cell_type": "code",
      "metadata": {
        "id": "Z3WwAlrbL0pd"
      },
      "source": [
        "#Show\n",
        "a"
      ],
      "execution_count": null,
      "outputs": []
    },
    {
      "cell_type": "markdown",
      "metadata": {
        "id": "FXNyJ1KRL3K3"
      },
      "source": [
        "In math, we often ask questions in the form of inequalities, such as \"Is 2 greater than 1?\" These questions have True/False answers, and the same holds true in Python. We can ask Python to answer a question and we will be returned a Boolean value."
      ]
    },
    {
      "cell_type": "code",
      "metadata": {
        "id": "PUigd748L41A",
        "outputId": "187b7154-811f-4422-f64f-5c68463b5f49",
        "colab": {
          "base_uri": "https://localhost:8080/"
        }
      },
      "source": [
        "# Output is Boolean\n",
        "1 > 2"
      ],
      "execution_count": 1,
      "outputs": [
        {
          "output_type": "execute_result",
          "data": {
            "text/plain": [
              "False"
            ]
          },
          "metadata": {
            "tags": []
          },
          "execution_count": 1
        }
      ]
    },
    {
      "cell_type": "markdown",
      "metadata": {
        "id": "ZQxaK-QsL99p"
      },
      "source": [
        "If we have a variable that we know will hold a Boolean value in the future, we can temporarily assign it a placeholder. In Python, that is `None`."
      ]
    },
    {
      "cell_type": "code",
      "metadata": {
        "id": "3IKck_3GL-h_"
      },
      "source": [
        "# None is a Boolean placeholder\n",
        "b = None"
      ],
      "execution_count": null,
      "outputs": []
    },
    {
      "cell_type": "code",
      "metadata": {
        "id": "cjHVjW4jL-lH"
      },
      "source": [
        "# Show\n",
        "print(b)"
      ],
      "execution_count": null,
      "outputs": []
    },
    {
      "cell_type": "markdown",
      "metadata": {
        "id": "M5vA7BzQMDZd"
      },
      "source": [
        "Now we know that if we want to evaluate if a mathematical statement is true in Python, we wil be returned True or False. But how do we write these statements in Python? We use comparison operators!"
      ]
    }
  ]
}